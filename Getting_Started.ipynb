{
  "cells": [
    {
      "cell_type": "markdown",
      "metadata": {
        "id": "UrjXB1EPotvM"
      },
      "source": [
        "# ☁️ CloudCents Getting Started Notebook\n",
        "\n",
        "#### This notebook helps you easily interact with the CloudCents API to retrieve pricing information for various cloud services. Let's get started!\n",
        "\n",
        "---"
      ]
    },
    {
      "cell_type": "markdown",
      "metadata": {
        "id": "1nzXJcrno973"
      },
      "source": [
        "## 🔍 Overview\n",
        "\n",
        "The **CloudCents Pricing API** allows you to fetch pricing information from different cloud providers, including services and configurations.\n",
        "\n",
        "### 🚀 API Endpoint:\n",
        "- `/get_prices/{cloud}/{service}/{config}`\n",
        "\n",
        "Replace `{cloud}`, `{service}`, and `{config}` with the desired values to retrieve pricing for a specific service configuration.\n",
        "\n",
        "### 📋 Requirements:\n",
        "- **🔑 API Key**: You'll need your CloudCents API key for authentication.\n",
        "\n",
        "In the following steps, you'll learn how to make your first request to the `/get_prices` endpoint.\n"
      ]
    },
    {
      "cell_type": "markdown",
      "metadata": {
        "id": "ThSj6pFlpBYK"
      },
      "source": [
        "## 🛠️ Step 1: Set Up Your Environment\n",
        "\n",
        "To interact with the CloudCents API, you'll need:\n",
        "1. **🔑 CloudCents API Key**: Grab the CloudCents API from [ from the App's user settings](https://cloudcents.ai/user)\n"
      ]
    },
    {
      "cell_type": "code",
      "execution_count": null,
      "metadata": {
        "colab": {
          "base_uri": "https://localhost:8080/"
        },
        "id": "R8iRLqrtmsSU",
        "outputId": "bc0fcdc3-73b4-4262-e9ca-a6e86f6b8318"
      },
      "outputs": [
        {
          "name": "stdout",
          "output_type": "stream",
          "text": [
            "✅ API Response: {\n",
            "  \"Cloud Service Result\": \"Pricing of aws service ec2 and configuration t2.micro\"\n",
            "}\n"
          ]
        }
      ],
      "source": [
        "# Import the required libraries\n",
        "import requests\n",
        "import json\n",
        "\n",
        "# If you don't have requests installed, uncomment and run the following line:\n",
        "# !pip install requests\n",
        "\n",
        "# Base API URL for CloudCents\n",
        "base_url = \"https://cloud-cents.onrender.com/get_prices\"\n",
        "\n",
        "# Replace with your API key\n",
        "api_key = \"dev\"  # Replace this with your actual API key"
      ]
    },
    {
      "cell_type": "markdown",
      "metadata": {},
      "source": [
        "## 🛠️ Step 2: Interact with CloudCents API\n",
        "\n",
        "To get real time prices follow the steps:\n",
        "1. **🔑 Update your Desired Config**.\n",
        "2. **📦 Query the prices**: Make sure you have the following installed in your environment:\n",
        "   - `requests`: For making HTTP requests.\n",
        "   - `json`: For parsing and formatting API responses."
      ]
    },
    {
      "cell_type": "code",
      "execution_count": null,
      "metadata": {},
      "outputs": [],
      "source": [
        "# Update with desired values for prices\n",
        "cloud = \"aws\"  # e.g., aws, gcp, azure\n",
        "service = \"ec2\"  # e.g., ec2, s3\n",
        "config = \"t2.micro\"  # e.g., t2.micro, m5.large\n",
        "\n",
        "# Construct the API endpoint\n",
        "api_url = f\"{base_url}/{cloud}/{service}/{config}\"\n",
        "\n",
        "# Set up the headers with the correct API key header (X-API-KEY)\n",
        "headers = {\n",
        "    \"api-key\": api_key,  # Use X-API-KEY instead of Authorization\n",
        "    \"Content-Type\": \"application/json\"\n",
        "}\n",
        "\n",
        "# Send the GET request to the API\n",
        "response = requests.get(api_url, headers=headers)\n",
        "\n",
        "# Check the response status and print the result\n",
        "if response.status_code == 200:\n",
        "    result = response.json()\n",
        "    print(\"✅ API Response:\", json.dumps(result, indent=2))  # Format the response in a readable way\n",
        "else:\n",
        "    print(f\"❌ Error: Unable to fetch data. Status Code: {response.status_code}\")\n",
        "    print(f\"Response Text: {response.text}\")  # Print the response text for more details"
      ]
    }
  ],
  "metadata": {
    "colab": {
      "provenance": []
    },
    "kernelspec": {
      "display_name": "Python 3",
      "name": "python3"
    },
    "language_info": {
      "name": "python"
    }
  },
  "nbformat": 4,
  "nbformat_minor": 0
}
